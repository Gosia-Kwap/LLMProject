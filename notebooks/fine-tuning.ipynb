{
 "cells": [
  {
   "cell_type": "code",
   "execution_count": 8,
   "id": "2f723f68",
   "metadata": {},
   "outputs": [
    {
     "name": "stdout",
     "output_type": "stream",
     "text": [
      "Archive:  datasets/tokenized_train.zip\n",
      "  inflating: datasets/tokenized_train/dataset_info.json  \n",
      "  inflating: datasets/tokenized_train/data-00000-of-00001.arrow  \n",
      "  inflating: datasets/tokenized_train/state.json  \n",
      "Archive:  datasets/tokenized_test.zip\n",
      "  inflating: datasets/tokenized_test/dataset_info.json  \n",
      "  inflating: datasets/tokenized_test/data-00000-of-00001.arrow  \n",
      "  inflating: datasets/tokenized_test/state.json  \n"
     ]
    }
   ],
   "source": [
    "!unzip -o datasets/tokenized_train.zip -d datasets/tokenized_train\n",
    "\n",
    "!unzip -o datasets/tokenized_test.zip -d datasets/tokenized_test"
   ]
  },
  {
   "cell_type": "code",
   "execution_count": 1,
   "id": "68f4a4bb",
   "metadata": {},
   "outputs": [],
   "source": [
    "from datasets import load_from_disk\n",
    "\n",
    "# Load the dataset from the unzipped directory\n",
    "train_dataset = load_from_disk('datasets/tokenized_train/')\n",
    "test_dataset = load_from_disk('datasets/tokenized_test/')"
   ]
  },
  {
   "cell_type": "code",
   "execution_count": 2,
   "id": "350dc55c",
   "metadata": {},
   "outputs": [],
   "source": [
    "from transformers import pipeline, RobertaTokenizerFast, RobertaForSequenceClassification, AutoModelForSequenceClassification\n",
    "import torch\n",
    "import torch.nn.functional as F"
   ]
  },
  {
   "cell_type": "code",
   "execution_count": 3,
   "id": "0ab88d9e",
   "metadata": {
    "scrolled": true
   },
   "outputs": [],
   "source": [
    "device = 0 if torch.cuda.is_available() else -1"
   ]
  },
  {
   "cell_type": "code",
   "execution_count": 4,
   "id": "28c59698",
   "metadata": {},
   "outputs": [
    {
     "name": "stderr",
     "output_type": "stream",
     "text": [
      "Some weights of RobertaForSequenceClassification were not initialized from the model checkpoint at cardiffnlp/twitter-roberta-base-emotion and are newly initialized because the shapes did not match:\n",
      "- classifier.out_proj.weight: found shape torch.Size([4, 768]) in the checkpoint and torch.Size([3, 768]) in the model instantiated\n",
      "- classifier.out_proj.bias: found shape torch.Size([4]) in the checkpoint and torch.Size([3]) in the model instantiated\n",
      "You should probably TRAIN this model on a down-stream task to be able to use it for predictions and inference.\n"
     ]
    }
   ],
   "source": [
    "model = RobertaForSequenceClassification.from_pretrained(\n",
    "    \"cardiffnlp/twitter-roberta-base-emotion\", \n",
    "    num_labels = 3,\n",
    "    ignore_mismatched_sizes=True).to(device)"
   ]
  },
  {
   "cell_type": "code",
   "execution_count": 5,
   "id": "2608aa08",
   "metadata": {},
   "outputs": [],
   "source": [
    "import numpy as np\n",
    "from sklearn.metrics import accuracy_score\n",
    "\n",
    "def compute_metrics(p):\n",
    "    predictions, labels = p\n",
    "    preds = np.argmax(predictions, axis=1)\n",
    "    acc = accuracy_score(labels, preds)\n",
    "    return {\"accuracy\": acc}"
   ]
  },
  {
   "cell_type": "code",
   "execution_count": 10,
   "id": "d70cbf10",
   "metadata": {},
   "outputs": [
    {
     "name": "stderr",
     "output_type": "stream",
     "text": [
      "Detected kernel version 4.18.0, which is below the recommended minimum of 5.5.0; this can cause the process to hang. It is recommended to upgrade the kernel to the minimum version or higher.\n"
     ]
    }
   ],
   "source": [
    "from transformers import Trainer, TrainingArguments, EarlyStoppingCallback\n",
    "\n",
    "training_args = TrainingArguments(\n",
    "    output_dir=\"./results\",          # Output directory\n",
    "    eval_strategy=\"epoch\",     # Evaluate after each epoch\n",
    "    save_strategy =\"epoch\",\n",
    "    learning_rate=2e-5,              # Learning rate\n",
    "    per_device_train_batch_size=8,   # Batch size for training\n",
    "    per_device_eval_batch_size=8,    # Batch size for evaluation\n",
    "    num_train_epochs=15,              # Number of epochs\n",
    "    weight_decay=0.01,               # Strength of weight decay\n",
    "    load_best_model_at_end=True,\n",
    "    metric_for_best_model=\"accuracy\",  \n",
    "    greater_is_better=True\n",
    ")\n",
    "\n",
    "trainer = Trainer(\n",
    "    model=model,\n",
    "    args=training_args,\n",
    "    train_dataset=train_dataset,\n",
    "    eval_dataset=test_dataset,\n",
    "    compute_metrics=compute_metrics,\n",
    "    callbacks = [EarlyStoppingCallback(early_stopping_patience=3)]\n",
    ")"
   ]
  },
  {
   "cell_type": "code",
   "execution_count": 11,
   "id": "7c2ca76e",
   "metadata": {},
   "outputs": [
    {
     "data": {
      "text/html": [
       "\n",
       "    <div>\n",
       "      \n",
       "      <progress value='13050' max='32625' style='width:300px; height:20px; vertical-align: middle;'></progress>\n",
       "      [13050/32625 1:02:04 < 1:33:08, 3.50 it/s, Epoch 6/15]\n",
       "    </div>\n",
       "    <table border=\"1\" class=\"dataframe\">\n",
       "  <thead>\n",
       " <tr style=\"text-align: left;\">\n",
       "      <th>Epoch</th>\n",
       "      <th>Training Loss</th>\n",
       "      <th>Validation Loss</th>\n",
       "      <th>Accuracy</th>\n",
       "    </tr>\n",
       "  </thead>\n",
       "  <tbody>\n",
       "    <tr>\n",
       "      <td>1</td>\n",
       "      <td>0.956200</td>\n",
       "      <td>0.921654</td>\n",
       "      <td>0.581187</td>\n",
       "    </tr>\n",
       "    <tr>\n",
       "      <td>2</td>\n",
       "      <td>0.832000</td>\n",
       "      <td>0.857479</td>\n",
       "      <td>0.614765</td>\n",
       "    </tr>\n",
       "    <tr>\n",
       "      <td>3</td>\n",
       "      <td>0.670600</td>\n",
       "      <td>0.907373</td>\n",
       "      <td>0.628795</td>\n",
       "    </tr>\n",
       "    <tr>\n",
       "      <td>4</td>\n",
       "      <td>0.513700</td>\n",
       "      <td>1.212114</td>\n",
       "      <td>0.612925</td>\n",
       "    </tr>\n",
       "    <tr>\n",
       "      <td>5</td>\n",
       "      <td>0.389100</td>\n",
       "      <td>1.511429</td>\n",
       "      <td>0.614765</td>\n",
       "    </tr>\n",
       "    <tr>\n",
       "      <td>6</td>\n",
       "      <td>0.322800</td>\n",
       "      <td>2.221519</td>\n",
       "      <td>0.612236</td>\n",
       "    </tr>\n",
       "  </tbody>\n",
       "</table><p>"
      ],
      "text/plain": [
       "<IPython.core.display.HTML object>"
      ]
     },
     "metadata": {},
     "output_type": "display_data"
    },
    {
     "data": {
      "text/plain": [
       "TrainOutput(global_step=13050, training_loss=0.6155856198277967, metrics={'train_runtime': 3724.9329, 'train_samples_per_second': 70.04, 'train_steps_per_second': 8.759, 'total_flos': 2.7457990047258624e+16, 'train_loss': 0.6155856198277967, 'epoch': 6.0})"
      ]
     },
     "execution_count": 11,
     "metadata": {},
     "output_type": "execute_result"
    }
   ],
   "source": [
    "trainer.train()"
   ]
  },
  {
   "cell_type": "code",
   "execution_count": 16,
   "id": "d8787d73",
   "metadata": {},
   "outputs": [
    {
     "name": "stdout",
     "output_type": "stream",
     "text": [
      "Validation Accuracy: 0.6288\n",
      "Training Accuracy: 0.8461\n"
     ]
    }
   ],
   "source": [
    "eval_results = trainer.evaluate(eval_dataset=test_dataset)\n",
    "print(f\"Validation Accuracy: {eval_results['eval_accuracy']:.4f}\")\n",
    "\n",
    "train_results = trainer.evaluate(eval_dataset=train_dataset)\n",
    "print(f\"Training Accuracy: {train_results['eval_accuracy']:.4f}\")"
   ]
  },
  {
   "cell_type": "code",
   "execution_count": 13,
   "id": "136ddaa8",
   "metadata": {},
   "outputs": [
    {
     "name": "stdout",
     "output_type": "stream",
     "text": [
      "Predicted class: right\n"
     ]
    }
   ],
   "source": [
    "from transformers import RobertaTokenizerFast\n",
    "\n",
    "tokenizer = RobertaTokenizerFast.from_pretrained('roberta-base')\n",
    "text = \"Poor enterpreneurs working hard and suffer from damn taxes!\"\n",
    "inputs = tokenizer(text, return_tensors=\"pt\", padding=True, truncation=True, max_length=512)\n",
    "inputs = {key: value.to(device) for key, value in inputs.items()}\n",
    "\n",
    "model.eval()\n",
    "\n",
    "# Make predictions\n",
    "with torch.no_grad():\n",
    "    outputs = model(**inputs)\n",
    "\n",
    "predicted_label = torch.argmax(outputs.logits, dim=1).item()\n",
    "\n",
    "label_mapping = {0: \"left\", 1: \"center\", 2: \"right\"}\n",
    "print(f\"Predicted class: {label_mapping[predicted_label]}\")"
   ]
  },
  {
   "cell_type": "code",
   "execution_count": 15,
   "id": "4bcfa649",
   "metadata": {},
   "outputs": [],
   "source": [
    "# To save the model\n",
    "\n",
    "model.save_pretrained(\"./fine-tuned-model/v1\")"
   ]
  },
  {
   "cell_type": "code",
   "execution_count": null,
   "id": "b788bc31",
   "metadata": {},
   "outputs": [],
   "source": []
  }
 ],
 "metadata": {
  "kernelspec": {
   "display_name": "llm",
   "language": "python",
   "name": "llm"
  },
  "language_info": {
   "codemirror_mode": {
    "name": "ipython",
    "version": 3
   },
   "file_extension": ".py",
   "mimetype": "text/x-python",
   "name": "python",
   "nbconvert_exporter": "python",
   "pygments_lexer": "ipython3",
   "version": "3.10.4"
  }
 },
 "nbformat": 4,
 "nbformat_minor": 5
}
