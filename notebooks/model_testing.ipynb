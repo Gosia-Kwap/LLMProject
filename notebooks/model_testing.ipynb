{
 "cells": [
  {
   "cell_type": "code",
   "execution_count": 13,
   "id": "25a316eb",
   "metadata": {},
   "outputs": [],
   "source": [
    "from transformers import RobertaTokenizerFast, RobertaForSequenceClassification\n",
    "import torch\n",
    "import torch.nn.functional as F"
   ]
  },
  {
   "cell_type": "code",
   "execution_count": 5,
   "id": "ea25f410",
   "metadata": {},
   "outputs": [],
   "source": [
    "device = 0 if torch.cuda.is_available() else -1"
   ]
  },
  {
   "cell_type": "code",
   "execution_count": 6,
   "id": "c248d396",
   "metadata": {},
   "outputs": [],
   "source": [
    "model = RobertaForSequenceClassification.from_pretrained(\"./fine-tuned-model/v1\").to(device)"
   ]
  },
  {
   "cell_type": "code",
   "execution_count": 10,
   "id": "1e397ef2",
   "metadata": {},
   "outputs": [],
   "source": [
    "tokenizer = RobertaTokenizerFast.from_pretrained('roberta-base')"
   ]
  },
  {
   "cell_type": "code",
   "execution_count": 34,
   "id": "396e5eae",
   "metadata": {},
   "outputs": [
    {
     "name": "stdout",
     "output_type": "stream",
     "text": [
      "left: 0.8704\n",
      "center: 0.0534\n",
      "right: 0.0763\n",
      "\n",
      "Predicted class: left\n"
     ]
    }
   ],
   "source": [
    "input_string = \"protests erupt nationwide to support abortion rights after scotus draft leak with the supreme court poised to overturn abortion protections, people took to the streets in cities across the country to protest for the right to safe, accessible abortion care for all. within hours of politico's reporting on a leaked draft supreme court opinion on monday, people flooded the steps of the supreme court in washington, d.c., protesting against the court's apparent plan to overturn the landmark abortion protections of roe v. wade. by late tuesday, hundreds more had gathered outside the nation's highest court. queer activists - whose rights to same-sex marriage and consensual sex are also..\"\n",
    "\n",
    "inputs = tokenizer(\n",
    "                input_string,\n",
    "                max_length=512,\n",
    "                padding='max_length', \n",
    "                truncation=True,\n",
    "                return_tensors='pt'\n",
    "            ).to(device)\n",
    "\n",
    "\n",
    "# Get predictions (logits)\n",
    "with torch.no_grad(): \n",
    "    outputs = model(**inputs)\n",
    "    logits = outputs.logits\n",
    "    \n",
    "\n",
    "probabilities = F.softmax(logits, dim=1).squeeze()\n",
    "\n",
    "label_mapping = {0: \"left\", 1: \"center\", 2: \"right\"}\n",
    "\n",
    "for label_idx, probability in enumerate(probabilities):\n",
    "    label = label_mapping[label_idx]\n",
    "    print(f\"{label}: {probability:.4f}\")\n",
    "\n",
    "# Predicted label based on the highest probability\n",
    "predicted_label = torch.argmax(probabilities).item()\n",
    "\n",
    "# Print the predicted label\n",
    "print(f\"\\nPredicted class: {label_mapping[predicted_label]}\")"
   ]
  },
  {
   "cell_type": "code",
   "execution_count": null,
   "id": "a5d29988",
   "metadata": {},
   "outputs": [],
   "source": []
  }
 ],
 "metadata": {
  "kernelspec": {
   "display_name": "llm",
   "language": "python",
   "name": "llm"
  },
  "language_info": {
   "codemirror_mode": {
    "name": "ipython",
    "version": 3
   },
   "file_extension": ".py",
   "mimetype": "text/x-python",
   "name": "python",
   "nbconvert_exporter": "python",
   "pygments_lexer": "ipython3",
   "version": "3.10.4"
  }
 },
 "nbformat": 4,
 "nbformat_minor": 5
}
